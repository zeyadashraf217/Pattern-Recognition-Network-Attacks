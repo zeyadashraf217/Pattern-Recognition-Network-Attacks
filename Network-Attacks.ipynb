{
  "nbformat": 4,
  "nbformat_minor": 0,
  "metadata": {
    "colab": {
      "provenance": []
    },
    "kernelspec": {
      "name": "python3",
      "display_name": "Python 3"
    },
    "language_info": {
      "name": "python"
    },
    "accelerator": "GPU",
    "gpuClass": "standard"
  },
  "cells": [
    {
      "cell_type": "markdown",
      "source": [
        "Importing The needed libraries"
      ],
      "metadata": {
        "id": "TCg5JTOamN70"
      }
    },
    {
      "cell_type": "code",
      "execution_count": null,
      "metadata": {
        "id": "ej4R12nbN5D3"
      },
      "outputs": [],
      "source": [
        "import pandas as pd\n",
        "import matplotlib.pyplot as plt\n",
        "import numpy as np\n",
        "import random as rn\n",
        "import math\n",
        "from sklearn.model_selection import train_test_split\n",
        "from scipy.spatial.distance import cdist\n",
        "import statistics\n",
        "from statistics import mode\n",
        "from sklearn import metrics\n",
        "from sklearn.gaussian_process.kernels import RBF\n",
        "from sklearn.metrics.pairwise import rbf_kernel\n",
        "from sklearn import linear_model\n",
        "from sklearn.preprocessing import StandardScaler\n",
        "from sklearn.metrics import confusion_matrix\n"
      ]
    },
    {
      "cell_type": "code",
      "source": [
        "from google.colab import drive\n",
        "drive.mount('/content/gdrive')"
      ],
      "metadata": {
        "colab": {
          "base_uri": "https://localhost:8080/"
        },
        "id": "lzEdmwNJOBHt",
        "outputId": "2a371e1e-1090-4db9-d215-929c6535ccca"
      },
      "execution_count": null,
      "outputs": [
        {
          "output_type": "stream",
          "name": "stdout",
          "text": [
            "Drive already mounted at /content/gdrive; to attempt to forcibly remount, call drive.mount(\"/content/gdrive\", force_remount=True).\n"
          ]
        }
      ]
    },
    {
      "cell_type": "markdown",
      "source": [
        "Downloading the dataset"
      ],
      "metadata": {
        "id": "RhlsX47OmSbg"
      }
    },
    {
      "cell_type": "code",
      "source": [
        "!unzip /content/gdrive/MyDrive/pattern_assignment2/kddcup.data_10_percent.zip"
      ],
      "metadata": {
        "colab": {
          "base_uri": "https://localhost:8080/"
        },
        "id": "pjzn-dn3OTxD",
        "outputId": "3e78b5eb-2deb-44b9-c617-73536e3d9ca3"
      },
      "execution_count": null,
      "outputs": [
        {
          "output_type": "stream",
          "name": "stdout",
          "text": [
            "Archive:  /content/gdrive/MyDrive/pattern_assignment2/kddcup.data_10_percent.zip\n",
            "replace kddcup.data_10_percent/kddcup.data_10_percent? [y]es, [n]o, [A]ll, [N]one, [r]ename: N\n"
          ]
        }
      ]
    },
    {
      "cell_type": "code",
      "source": [
        "data=pd.read_csv('/content/kddcup.data_10_percent/kddcup.data_10_percent',header=None)"
      ],
      "metadata": {
        "id": "2tf75w15PV_9"
      },
      "execution_count": null,
      "outputs": []
    },
    {
      "cell_type": "markdown",
      "source": [
        "Change the categorical features to numerical"
      ],
      "metadata": {
        "id": "7fOjb0kYmaNC"
      }
    },
    {
      "cell_type": "code",
      "source": [
        "#The unique labels of col#1\n",
        "labels_tcp=pd.unique(data[1])\n",
        "# num of labels\n",
        "tcp_size=list(range(0,labels_tcp.shape[0]))\n",
        "# replacing each labels with its adjacent number\n",
        "data[1]=data[1].replace(labels_tcp,tcp_size)\n",
        "\n",
        "#The unique labels of col#2\n",
        "labels_http=pd.unique(data[2])\n",
        "http_size=list(range(0,labels_http.shape[0]))\n",
        "data[2]=data[2].replace(labels_http,http_size)\n",
        "\n",
        "#The unique labels of col#3\n",
        "labels_SF=pd.unique(data[3])\n",
        "SF_size=list(range(0,labels_SF.shape[0]))\n",
        "data[3]=data[3].replace(labels_SF,SF_size)"
      ],
      "metadata": {
        "id": "PQPII6quPkcv"
      },
      "execution_count": null,
      "outputs": []
    },
    {
      "cell_type": "markdown",
      "source": [
        "Dropping the duplicates"
      ],
      "metadata": {
        "id": "4hm_vFOmnC-2"
      }
    },
    {
      "cell_type": "code",
      "source": [
        "data.drop_duplicates(keep=\"last\", inplace=True)"
      ],
      "metadata": {
        "id": "ikOkiforqqkM"
      },
      "execution_count": null,
      "outputs": []
    },
    {
      "cell_type": "markdown",
      "source": [
        "Downloading the test dataset"
      ],
      "metadata": {
        "id": "wUZN_wQxnIJf"
      }
    },
    {
      "cell_type": "code",
      "source": [
        "!unzip /content/gdrive/MyDrive/pattern_assignment2/corrected.zip"
      ],
      "metadata": {
        "colab": {
          "base_uri": "https://localhost:8080/"
        },
        "id": "0mf14VFbfDfa",
        "outputId": "a7152a58-fb54-48d7-9dee-d733ec8e7b47"
      },
      "execution_count": null,
      "outputs": [
        {
          "output_type": "stream",
          "name": "stdout",
          "text": [
            "Archive:  /content/gdrive/MyDrive/pattern_assignment2/corrected.zip\n",
            "replace corrected/corrected? [y]es, [n]o, [A]ll, [N]one, [r]ename: N\n"
          ]
        }
      ]
    },
    {
      "cell_type": "code",
      "source": [
        "data_test=pd.read_csv('/content/corrected/corrected',header=None)"
      ],
      "metadata": {
        "id": "z0VilacKtW0d"
      },
      "execution_count": null,
      "outputs": []
    },
    {
      "cell_type": "markdown",
      "source": [
        "Change the categorical features to numerical (Test Set)"
      ],
      "metadata": {
        "id": "q7QhJ-TRnuvk"
      }
    },
    {
      "cell_type": "code",
      "source": [
        "data_test[1]=data_test[1].replace(labels_tcp,tcp_size)\n",
        "\n",
        "data_test[2]=data_test[2].replace(labels_http,http_size)\n",
        "data_test[2]=data_test[2].replace('icmp',66)\n",
        "data_test[3]=data_test[3].replace(labels_SF,SF_size)"
      ],
      "metadata": {
        "id": "jyyqM_latkR2"
      },
      "execution_count": null,
      "outputs": []
    },
    {
      "cell_type": "markdown",
      "source": [
        "Dropping the duplicates (Test Set)"
      ],
      "metadata": {
        "id": "zS5pW7H6n7mW"
      }
    },
    {
      "cell_type": "code",
      "source": [
        "data_test.drop_duplicates(keep=\"last\", inplace=True)"
      ],
      "metadata": {
        "id": "sgqiNZhWqjlw"
      },
      "execution_count": null,
      "outputs": []
    },
    {
      "cell_type": "markdown",
      "source": [
        "Kmeans"
      ],
      "metadata": {
        "id": "2RNpTdbAonTA"
      }
    },
    {
      "cell_type": "code",
      "source": [
        "def Kmeans(data,k):\n",
        "  random_starts = []\n",
        "  # Changing the format of data to pandas\n",
        "  data=pd.core.frame.DataFrame(data)\n",
        "  scale = StandardScaler()\n",
        "  if(data.shape[1]==42):\n",
        "    data_train= np.array(data.iloc[:, : data.shape[1]-1])\n",
        "    # Scaling the data.set for better results\n",
        "    data_train = scale.fit_transform(data_train)\n",
        "  else:\n",
        "    data_train=np.array(data)\n",
        "    data_train = scale.fit_transform(data_train)\n",
        "    #number of random starts\n",
        "  for i in range(1):\n",
        "    # picking random starts to be the inital centroid\n",
        "      random_starts.append(rn.sample(range(0,data_train.shape[0]),k))\n",
        "  centroids = np.empty((k,data_train.shape[1]))\n",
        "  ncentroids = np.empty((k,data_train.shape[1]))\n",
        "  error = 1\n",
        "  SSE = 0\n",
        "  temp= [[] for _ in range(k)]\n",
        "  for i in range(len(random_starts)):\n",
        "      for j in range(k):\n",
        "        # centroids==random_starts\n",
        "          centroids[j] = data_train[random_starts[i][j]]\n",
        "      error=1\n",
        "      # error = new centroids - old centroids\n",
        "      while error != 0:\n",
        "        clusters = [[] for _ in range(k)]\n",
        "        # Computing the euclidean distance\n",
        "        distances = cdist(data_train, centroids,'euclidean')\n",
        "        closest_centroid=np.argmin(distances, axis=1)\n",
        "        # Clustering the data according to the nearest centroid\n",
        "        for f in range(data_train.shape[0]):\n",
        "          clusters[ closest_centroid[f] ].append(f)\n",
        "        error=0\n",
        "        for z in range(k):\n",
        "            sum = np.zeros(data_train.shape[1])\n",
        "            for idx in clusters[z]:\n",
        "                    sum =  sum + data_train[idx]\n",
        "            if (len(clusters[z]) != 0):\n",
        "              ncentroids[z] = sum/len(clusters[z])\n",
        "            error = error + (centroids[z] - ncentroids[z]).sum()\n",
        "        ncentroids=np.array(ncentroids)\n",
        "        centroids=np.array(ncentroids)\n",
        "      # Computing the SSE to check the best inital centrioid to start with\n",
        "      distances = np.sum((data_train[:, np.newaxis] - centroids)**2, axis=2)\n",
        "      cluster_indices = np.argmin(distances, axis=1)\n",
        "      SSE = np.sum(distances[np.arange(len(cluster_indices)), cluster_indices])\n",
        "      if i == 0:\n",
        "          min_SSE = SSE\n",
        "          BestCluster=clusters\n",
        "          BestCentroids=centroids\n",
        "      else:\n",
        "          if SSE < min_SSE:\n",
        "              min_SSE = SSE\n",
        "              BestCluster=clusters\n",
        "              BestCentroids=centroids\n",
        "  return clusters,centroids"
      ],
      "metadata": {
        "id": "ZHPovOMlXtkv"
      },
      "execution_count": null,
      "outputs": []
    },
    {
      "cell_type": "code",
      "source": [
        "clusters,centroids=Kmeans(data,23)"
      ],
      "metadata": {
        "id": "plYNsdwEtoyr"
      },
      "execution_count": null,
      "outputs": []
    },
    {
      "cell_type": "markdown",
      "source": [
        "Testing the dataset with Kmeans"
      ],
      "metadata": {
        "id": "hnheizXcp1tB"
      }
    },
    {
      "cell_type": "code",
      "source": [
        "def Kmeans_test(data_test,centroids,k):\n",
        "  # removing the labels\n",
        "  data= np.array(data_test.iloc[:, : data_test.shape[1]-1])\n",
        "  # Labels\n",
        "  y_test=data_test.iloc[:,41:]\n",
        "  # changing format of the data\n",
        "  data_test=np.array(data_test)\n",
        "  scale = StandardScaler()\n",
        "  # scaling the data\n",
        "  data = scale.fit_transform(data)\n",
        "  clusters = [[] for _ in range(k)]\n",
        "  # Computing the clusters according to the Trainset's centroids\n",
        "  distances = cdist(data, centroids,'euclidean')\n",
        "  closest_centroid=np.argmin(distances, axis=1)\n",
        "  y=np.empty([data.shape[0]],dtype='object')\n",
        "  for f in range(data.shape[0]):\n",
        "    clusters[ closest_centroid[f] ].append(f)\n",
        "  labels=[]\n",
        "  # Computing the Y_Predict\n",
        "  for q in range(k):\n",
        "    y_predict=[]\n",
        "    for p in clusters[q]:\n",
        "      y_predict.append(data_test[p,41])\n",
        "    if not y_predict:\n",
        "      labels.append('empty')\n",
        "    else:\n",
        "      labels.append(mode(y_predict))\n",
        "  for q in range(k):\n",
        "    for p in clusters[q]:\n",
        "      y[p]=labels[q]\n",
        "\n",
        "  return clusters,y,y_test"
      ],
      "metadata": {
        "id": "Ko59AP9odsa2"
      },
      "execution_count": null,
      "outputs": []
    },
    {
      "cell_type": "code",
      "source": [
        "Clusters_test,Y_predict,Y_test=Kmeans_test(data_test,centroids,31)"
      ],
      "metadata": {
        "id": "C9I0OVOPhfx1"
      },
      "execution_count": null,
      "outputs": []
    },
    {
      "cell_type": "code",
      "source": [
        "#Unique labels\n",
        "targets = pd.unique(data_test[41])"
      ],
      "metadata": {
        "id": "zgTTtkCKcRpe"
      },
      "execution_count": null,
      "outputs": []
    },
    {
      "cell_type": "markdown",
      "source": [
        "Downloading the dataset for Spectral clustering"
      ],
      "metadata": {
        "id": "GyqcmY5ztIGN"
      }
    },
    {
      "cell_type": "code",
      "source": [
        "!unzip /content/gdrive/MyDrive/pattern_assignment2/kddcup.data.zip"
      ],
      "metadata": {
        "id": "akPThu7gbu8h",
        "colab": {
          "base_uri": "https://localhost:8080/"
        },
        "outputId": "5e51cf2a-8a83-450a-d808-42781e4622eb"
      },
      "execution_count": null,
      "outputs": [
        {
          "output_type": "stream",
          "name": "stdout",
          "text": [
            "Archive:  /content/gdrive/MyDrive/pattern_assignment2/kddcup.data.zip\n",
            "replace kddcup.data/kddcup.data? [y]es, [n]o, [A]ll, [N]one, [r]ename: N\n"
          ]
        }
      ]
    },
    {
      "cell_type": "code",
      "source": [
        "data_cluster=pd.read_csv('/content/kddcup.data/kddcup.data',header=None)"
      ],
      "metadata": {
        "id": "SbFfefjob0PZ"
      },
      "execution_count": null,
      "outputs": []
    },
    {
      "cell_type": "markdown",
      "source": [
        "Change the categorical features to numerical and dropping the duplicates (Spectral Clustering dataset)"
      ],
      "metadata": {
        "id": "TRaULiqCta06"
      }
    },
    {
      "cell_type": "code",
      "source": [
        "labels_tcp2=pd.unique(data_cluster[1])\n",
        "tcp_size2=list(range(0,labels_tcp2.shape[0]))\n",
        "data_cluster[1]=data_cluster[1].replace(labels_tcp2,tcp_size2)\n",
        "\n",
        "labels_http2=pd.unique(data_cluster[2])\n",
        "http_size2=list(range(0,labels_http2.shape[0]))\n",
        "data_cluster[2]=data_cluster[2].replace(labels_http2,http_size2)\n",
        "\n",
        "labels_SF2=pd.unique(data_cluster[3])\n",
        "SF_size2=list(range(0,labels_SF2.shape[0]))\n",
        "data_cluster[3]=data_cluster[3].replace(labels_SF2,SF_size2)\n",
        "\n",
        "data_cluster.drop_duplicates(keep=\"last\", inplace=True)"
      ],
      "metadata": {
        "id": "K6u5GjAPdyeE"
      },
      "execution_count": null,
      "outputs": []
    },
    {
      "cell_type": "code",
      "source": [
        "X=data_cluster.iloc[:, :]\n",
        "Y=data_cluster.iloc[:,41:]"
      ],
      "metadata": {
        "id": "uR555duKgZXK"
      },
      "execution_count": null,
      "outputs": []
    },
    {
      "cell_type": "markdown",
      "source": [
        "Spliting the dataset"
      ],
      "metadata": {
        "id": "2rDITJEotrg4"
      }
    },
    {
      "cell_type": "code",
      "source": [
        "X_train, X_test, y_train, y_test = train_test_split(X, Y, test_size = 0.9975,stratify =Y,random_state=42)"
      ],
      "metadata": {
        "id": "u9q84UB_hc-1"
      },
      "execution_count": null,
      "outputs": []
    },
    {
      "cell_type": "markdown",
      "source": [
        "**Spectral_Clustering**"
      ],
      "metadata": {
        "id": "P5gqZE0Wtugp"
      }
    },
    {
      "cell_type": "code",
      "source": [
        "def Spectral_clustering(data,k,g):\n",
        "  data=np.array(data.iloc[:,:41])\n",
        "  # Similarity Matrix using rbf_kernel\n",
        "  similarity_matrix=rbf_kernel(data, gamma=g)\n",
        "  # Computing the delta\n",
        "  delta=np.sum(similarity_matrix,axis=1)\n",
        "  delta_diagonal=np.diag(delta)\n",
        "  # Laplacian Matrix\n",
        "  L=delta_diagonal.T-similarity_matrix\n",
        "  LAC=np.dot(np.linalg.inv(delta_diagonal),L)\n",
        "  # Computing the eigen vectors\n",
        "  w,v=np.linalg.eig(LAC)\n",
        "  idx = np.argsort(w)\n",
        "  EigenValues=w[idx]\n",
        "  EigenVectors=v[:,idx]\n",
        "  EigenVectors =EigenVectors[:,:k]\n",
        "  EigenVectors = EigenVectors.real\n",
        "  norm=EigenVectors.real / np.sqrt(np.linalg.norm(EigenVectors.real))\n",
        "  # Clustering using Kmeans\n",
        "  C_K ,centroids=Kmeans(norm,k)\n",
        "  return C_K"
      ],
      "metadata": {
        "id": "IaQwpQXwaqVm"
      },
      "execution_count": null,
      "outputs": []
    },
    {
      "cell_type": "markdown",
      "source": [
        "computing the clusters at K=23 gamma=0.01"
      ],
      "metadata": {
        "id": "z3r-Dcl-O7bd"
      }
    },
    {
      "cell_type": "code",
      "source": [
        "C_K=Spectral_clustering(X_train,23,0.01)"
      ],
      "metadata": {
        "id": "1SuxSVrkkg9D"
      },
      "execution_count": null,
      "outputs": []
    },
    {
      "cell_type": "code",
      "source": [
        "y_train=np.array(y_train)\n",
        "y_train=y_train.flatten()"
      ],
      "metadata": {
        "id": "azuY5dnxMnmn"
      },
      "execution_count": null,
      "outputs": []
    },
    {
      "cell_type": "markdown",
      "source": [
        "Computing the Y_predict for spectral Clustering at k=23"
      ],
      "metadata": {
        "id": "okRqzFOXO2RS"
      }
    },
    {
      "cell_type": "code",
      "source": [
        "y=np.empty([y_train.shape[0]],dtype='object')\n",
        "labels=[]\n",
        "k=23\n",
        "for q in range(k):\n",
        "    y_predict=[]\n",
        "    for p in C_K[q]:\n",
        "      y_predict.append((y_train[p]))\n",
        "    if not y_predict:\n",
        "      labels.append('empty')\n",
        "    else:\n",
        "      labels.append(mode(y_predict))\n",
        "for q in range(k):\n",
        "  for p in C_K[q]:\n",
        "      y[p]=labels[q]"
      ],
      "metadata": {
        "id": "nhcFH-j8oBGO"
      },
      "execution_count": null,
      "outputs": []
    },
    {
      "cell_type": "code",
      "source": [
        "def Evaluation(y_true,y_predict,data_arr, clusters, targets):\n",
        "  y_true=np.array(y_true)\n",
        "  y_true=y_true.flatten()\n",
        "  y_predict=np.array(y_predict)\n",
        "  labels=pd.unique(y_true)\n",
        "  cm=confusion_matrix(y_true,y_predict)\n",
        "\n",
        "  FP = cm.sum(axis=0) - np.diag(cm)\n",
        "  FN = cm.sum(axis=1) - np.diag(cm)\n",
        "  TP = np.diag(cm)\n",
        "\n",
        "  preci=TP/(TP+FP)\n",
        "  recall=TP/(TP+FN)\n",
        "\n",
        "  preci=np.nan_to_num(preci, nan=0)\n",
        "\n",
        "  recall =np.nan_to_num(recall, nan=0)\n",
        "\n",
        "  weights = np.sum(cm, axis=1) / np.sum(cm)\n",
        "  weighted_preci = np.sum(preci *weights )\n",
        "  weighted_recall = np.sum(recall * weights)\n",
        "  F_score= 2*weighted_preci*weighted_recall/(weighted_preci+weighted_recall)\n",
        "  weighted_Fscore= np.sum(F_score * weights)\n",
        "\n",
        "  data_arr=np.array(data_arr)\n",
        "  TgivenC = np.zeros(len(clusters))\n",
        "  indx = 0\n",
        "  entropy = 0\n",
        "  for cluster in clusters:\n",
        "      count = np.zeros(len(targets))\n",
        "      for i in cluster:\n",
        "          for j in range(len(targets)):\n",
        "              if data_arr[i,-1] == targets[j]:\n",
        "                  count[j] = count[j] + 1\n",
        "                  break\n",
        "      for z in count:\n",
        "          if z == 0:\n",
        "              continue\n",
        "          TgivenC[indx] = TgivenC[indx] - ((z/len(cluster)) * math.log(z/len(cluster)))\n",
        "      entropy = entropy + ((len(cluster)/len(data_arr)) * TgivenC[indx])\n",
        "      indx = indx + 1\n",
        "  entropy = entropy * 1/len(TgivenC)\n",
        "\n",
        "\n",
        "  print('Model precision = ' +str(weighted_preci*100)+'%')\n",
        "  print('Model recall = ' +str(weighted_recall*100)+'%')\n",
        "  print('Model f_sore = ' +str(weighted_Fscore*100)+'%')\n",
        "  print('Condition entropy = '+str(entropy))\n"
      ],
      "metadata": {
        "id": "fcbdNs3prndg"
      },
      "execution_count": null,
      "outputs": []
    },
    {
      "cell_type": "markdown",
      "source": [
        "Kmeans Evaluation"
      ],
      "metadata": {
        "id": "g9oNSQNoIGci"
      }
    },
    {
      "cell_type": "code",
      "source": [
        "np.seterr(invalid='ignore')\n",
        "\n",
        "ks=[7,15,23,31,45]\n",
        "for k in ks:\n",
        "  clusters,centroids=Kmeans(data,k)\n",
        "  Clusters_test,Y_predict,Y_test=Kmeans_test(data_test,centroids,k)\n",
        "  print('Evaluation for k = '+str(k))\n",
        "  Evaluation(Y_test,Y_predict,data_test,Clusters_test,targets)\n",
        "  print('\\n')\n"
      ],
      "metadata": {
        "colab": {
          "base_uri": "https://localhost:8080/"
        },
        "id": "HhoNMUofIItN",
        "outputId": "4bfd87ee-7870-4d73-fd63-d3b67e4c6513"
      },
      "execution_count": null,
      "outputs": [
        {
          "output_type": "stream",
          "name": "stdout",
          "text": [
            "Evaluation for k = 7\n",
            "Model precision = 78.12370255153161%\n",
            "Model recall = 88.27547838687558%\n",
            "Model f_sore = 82.889917813275%\n",
            "Condition entropy = 0.072010656786981\n",
            "\n",
            "\n",
            "Evaluation for k = 15\n",
            "Model precision = 84.44325818529786%\n",
            "Model recall = 89.9781345822929%\n",
            "Model f_sore = 87.122877864966%\n",
            "Condition entropy = 0.024501952752237273\n",
            "\n",
            "\n",
            "Evaluation for k = 23\n",
            "Model precision = 84.74479664106875%\n",
            "Model recall = 90.45684491079167%\n",
            "Model f_sore = 87.50770664998181%\n",
            "Condition entropy = 0.01481902772802903\n",
            "\n",
            "\n",
            "Evaluation for k = 31\n",
            "Model precision = 86.23352693134704%\n",
            "Model recall = 90.37792239717429%\n",
            "Model f_sore = 88.25709810623607%\n",
            "Condition entropy = 0.010091591188471123\n",
            "\n",
            "\n",
            "Evaluation for k = 45\n",
            "Model precision = 87.63446590664088%\n",
            "Model recall = 91.41297175609063%\n",
            "Model f_sore = 89.4838492117814%\n",
            "Condition entropy = 0.006137615660265664\n",
            "\n",
            "\n"
          ]
        }
      ]
    },
    {
      "cell_type": "markdown",
      "source": [
        "Kmeans for datatset = 0.025 of the total data"
      ],
      "metadata": {
        "id": "ZdcO4ThcOUDp"
      }
    },
    {
      "cell_type": "code",
      "source": [
        "clusters,centroids=Kmeans(X_train,23)\n",
        "Clusters_test,Y_predict,Y_test=Kmeans_test(X_train,centroids,k)"
      ],
      "metadata": {
        "id": "eCmvwXo-Nk5-"
      },
      "execution_count": null,
      "outputs": []
    },
    {
      "cell_type": "markdown",
      "source": [
        "Kmeans vs Spectral clustering"
      ],
      "metadata": {
        "id": "JvXhPdnkYwuC"
      }
    },
    {
      "cell_type": "code",
      "source": [
        "np.seterr(invalid='ignore')\n",
        "\n",
        "# Evaluation for Kmeans\n",
        "clusters,centroids=Kmeans(X_train,23)\n",
        "Clusters_test,Y_predict,Y_test=Kmeans_test(X_train,centroids,k)\n",
        "print('Evaluation for Kmeans ')\n",
        "Evaluation(Y_test,Y_predict,data_test,Clusters_test,targets)\n",
        "\n",
        "print('\\n')\n",
        "\n",
        "# Evaluation for Spectral Clustering\n",
        "print('Evaluation for Spectral Clustering')\n",
        "Evaluation(y_train,y,X_train,C_K,targets)"
      ],
      "metadata": {
        "colab": {
          "base_uri": "https://localhost:8080/"
        },
        "id": "TiDdlQKKKizf",
        "outputId": "039c420d-10bf-48ac-9f4e-6fe26bb9b06e"
      },
      "execution_count": null,
      "outputs": [
        {
          "output_type": "stream",
          "name": "stdout",
          "text": [
            "Evaluation for Kmeans \n",
            "Model precision = 96.76162994496636%\n",
            "Model recall = 98.25083736509117%\n",
            "Model f_sore = 97.50054750898195%\n",
            "Condition entropy = 0.00047277359414716843\n",
            "\n",
            "\n",
            "Evaluation for Spectral Clustering\n",
            "Model precision = 89.96942332185569%\n",
            "Model recall = 88.68626721250466%\n",
            "Model f_sore = 89.32323727065891%\n",
            "Condition entropy = 0.012644800618298166\n"
          ]
        }
      ]
    },
    {
      "cell_type": "code",
      "source": [
        "from sklearn.neighbors import NearestNeighbors\n",
        "def elbow_method(data, k):\n",
        "    # compute distances to kth nearest neighbor\n",
        "    neigh = NearestNeighbors(n_neighbors=k)\n",
        "    neigh.fit(data)\n",
        "    distances, _ = neigh.kneighbors(data)\n",
        "\n",
        "    # plot distance to kth nearest neighbor\n",
        "    dist_to_k = distances[:, -1]\n",
        "    dist_to_k.sort()\n",
        "    plt.plot(np.arange(len(data)), dist_to_k)\n",
        "\n",
        "    # compute difference between consecutive distances\n",
        "    diff = np.diff(dist_to_k)\n",
        "\n",
        "    # plot differences\n",
        "    plt.plot(np.arange(len(data) - 1) + 1, diff)\n",
        "\n",
        "    # find elbow point\n",
        "    elbow_idx = np.argmax(diff) + 1\n",
        "\n",
        "    # plot elbow point\n",
        "    plt.plot(elbow_idx, dist_to_k[elbow_idx], marker=\"o\", markersize=10)\n",
        "\n",
        "    # set labels and title\n",
        "    plt.xlabel(\"Points sorted by distance to kth neighbor\")\n",
        "    plt.ylabel(\"Distance to kth neighbor\")\n",
        "    plt.title(\"Elbow method for estimating eps\")\n",
        "\n",
        "    # show plot\n",
        "    plt.show()\n",
        "\n",
        "    # return estimated eps\n",
        "    return dist_to_k[elbow_idx]"
      ],
      "metadata": {
        "id": "Q4D25PGtOG58"
      },
      "execution_count": null,
      "outputs": []
    },
    {
      "cell_type": "code",
      "source": [
        "def regionQuery(i, distances, eps):\n",
        "    return np.where(distances[i] <= eps)[0]\n",
        "def expandCluster(i, NeighborPts, C, labels, visited, distances, eps, minPts, clusters):\n",
        "    labels[i] = C\n",
        "    clusters[C].append(i)\n",
        "    while len(NeighborPts) > 0:\n",
        "        j = NeighborPts[0]\n",
        "        NeighborPts = np.delete(NeighborPts, 0)\n",
        "        if not visited[j]:\n",
        "            visited[j] = True\n",
        "            NeighborPtsPrime = regionQuery(j, distances, eps)\n",
        "            if len(NeighborPtsPrime) >= minPts:\n",
        "                NeighborPts = np.append(NeighborPts, NeighborPtsPrime)\n",
        "        if labels[j] == 0:\n",
        "            labels[j] = C\n",
        "            clusters[C].append(j)"
      ],
      "metadata": {
        "id": "H8zYQJL0NcDD"
      },
      "execution_count": null,
      "outputs": []
    },
    {
      "cell_type": "code",
      "source": [
        "def DBSCAN(D, eps, minPts):\n",
        "    C = 0\n",
        "    labels = np.zeros(len(D))\n",
        "    visited = np.zeros(len(D), dtype=bool)\n",
        "    distances = cdist(D, D)\n",
        "    clusters = {}\n",
        "    noise_indices = []\n",
        "    for i in range(len(D)):\n",
        "        if visited[i]:\n",
        "            continue\n",
        "        visited[i] = True\n",
        "        NeighborPts = regionQuery(i, distances, eps)\n",
        "        if len(NeighborPts) < minPts:\n",
        "            labels[i] = -1\n",
        "        else:\n",
        "            C += 1\n",
        "            clusters[C] = [i]\n",
        "            expandCluster(i, NeighborPts, C, labels, visited, distances, eps, minPts, clusters)\n",
        "\n",
        "    cluster_indices = []\n",
        "    for cluster in clusters.values():\n",
        "        cluster_indices.append([i for i in cluster])\n",
        "    noise_indices = [i for i, label in enumerate(labels) if label == -1]\n",
        "    cluster_indices = [row[1:] for row in cluster_indices]\n",
        "    return labels, cluster_indices, noise_indices"
      ],
      "metadata": {
        "id": "irVlW6cuPpkI"
      },
      "execution_count": null,
      "outputs": []
    },
    {
      "cell_type": "code",
      "source": [
        "data_DBSCAN=np.array(X_train.iloc[:, :41])\n",
        "scale = StandardScaler()\n",
        "  # scaling the data\n",
        "data_DBSCAN = scale.fit_transform(data_DBSCAN)\n",
        "cluster_labels2,indices,noise = DBSCAN(data_DBSCAN,0.5, 22)"
      ],
      "metadata": {
        "id": "FUGhotUYNuL8"
      },
      "execution_count": null,
      "outputs": []
    },
    {
      "cell_type": "code",
      "source": [
        "noise = np.array(noise)\n",
        "indices = np.array(indices)\n",
        "comb = np.concatenate((np.squeeze(np.expand_dims(noise, axis=1)), indices), axis=0)"
      ],
      "metadata": {
        "id": "_blYZQMZN4DN"
      },
      "execution_count": null,
      "outputs": []
    },
    {
      "cell_type": "code",
      "source": [
        "unique_labels, counts = np.unique(cluster_labels2, return_counts=True)\n",
        "for l, c in zip(unique_labels, counts):\n",
        "    print(\"Cluster\", l, \"size:\", c)"
      ],
      "metadata": {
        "colab": {
          "base_uri": "https://localhost:8080/"
        },
        "id": "qFrgZnARN966",
        "outputId": "719a08c2-94db-49c9-edc6-4297ff00ab43"
      },
      "execution_count": null,
      "outputs": [
        {
          "output_type": "stream",
          "name": "stdout",
          "text": [
            "Cluster -1.0 size: 1213\n",
            "Cluster 1.0 size: 397\n",
            "Cluster 2.0 size: 1066\n",
            "Cluster 3.0 size: 9\n",
            "Cluster 4.0 size: 2\n"
          ]
        }
      ]
    },
    {
      "cell_type": "code",
      "source": [
        "x=elbow_method(data_DBSCAN,41)\n",
        "print(x)"
      ],
      "metadata": {
        "colab": {
          "base_uri": "https://localhost:8080/",
          "height": 489
        },
        "id": "QP1hLvYdVjey",
        "outputId": "5f414c1f-decf-4e32-a58c-b45525253459"
      },
      "execution_count": null,
      "outputs": [
        {
          "output_type": "display_data",
          "data": {
            "text/plain": [
              "<Figure size 640x480 with 1 Axes>"
            ],
            "image/png": "[encoded data removed]"
          },
          "metadata": {}
        },
        {
          "output_type": "stream",
          "name": "stdout",
          "text": [
            "50.07228024366462\n"
          ]
        }
      ]
    },
    {
      "cell_type": "code",
      "source": [
        "y_train=np.array(y_train)\n",
        "y_train=y_train.flatten()\n",
        "y=np.empty([y_train.shape[0]],dtype='object')\n",
        "y_true=np.empty([y_train.shape[0]],dtype='object')\n",
        "labels=[]\n",
        "k=len(unique_labels)-1\n",
        "for q in range(k):\n",
        "    y_predict=[]\n",
        "    for p in indices[q]:\n",
        "      y_predict.append((y_train[p]))\n",
        "    if not y_predict:\n",
        "      labels.append('empty')\n",
        "    else:\n",
        "      labels.append(mode(y_predict))\n",
        "for q in range(k):\n",
        "  for p in indices[q]:\n",
        "      if (labels[q]!=None):\n",
        "        y[p]=labels[q]\n",
        "        y_true[p]=y_train[p]"
      ],
      "metadata": {
        "id": "iPZCr2GnW_yF"
      },
      "execution_count": null,
      "outputs": []
    },
    {
      "cell_type": "code",
      "source": [
        "y_true=y_true.flatten()\n",
        "y=np.array(y)"
      ],
      "metadata": {
        "id": "AkBAlOtqJdjf"
      },
      "execution_count": null,
      "outputs": []
    },
    {
      "cell_type": "code",
      "source": [
        "y=y.flatten()"
      ],
      "metadata": {
        "id": "qpZzDvxkLC37"
      },
      "execution_count": null,
      "outputs": []
    },
    {
      "cell_type": "code",
      "source": [
        "y_true=y_true[y_true != np.array(None)]\n",
        "y=y[y != np.array(None)]"
      ],
      "metadata": {
        "id": "tg4IXBxKLb_W"
      },
      "execution_count": null,
      "outputs": []
    },
    {
      "cell_type": "markdown",
      "source": [
        "Evaluation for the DBSCAN"
      ],
      "metadata": {
        "id": "1x_JIZHlZQga"
      }
    },
    {
      "cell_type": "code",
      "source": [
        "Evaluation(y_true,y,data_DBSCAN,indices,targets)"
      ],
      "metadata": {
        "colab": {
          "base_uri": "https://localhost:8080/"
        },
        "id": "bDRYcOicLPtL",
        "outputId": "0d6c0c27-49e2-4184-c329-53f2fa074879"
      },
      "execution_count": null,
      "outputs": [
        {
          "output_type": "stream",
          "name": "stdout",
          "text": [
            "Model precision = 100.0%\n",
            "Model recall = 100.0%\n",
            "Model f_sore = 100.0%\n",
            "Condition entropy = 0.0\n"
          ]
        }
      ]
    },
    {
      "cell_type": "markdown",
      "source": [
        "Another Implementation for Evaluation"
      ],
      "metadata": {
        "id": "1JisSalhaDoo"
      }
    },
    {
      "cell_type": "code",
      "source": [
        "def Precision(data_arr, clusters, targets):\n",
        "    preci = np.zeros((len(clusters)))\n",
        "    indx = 0\n",
        "    for cluster in clusters:\n",
        "        count = np.zeros(len(targets))\n",
        "        for i in cluster:\n",
        "            for j in range(len(targets)):\n",
        "                if data_arr[i,-1] == targets[j]:\n",
        "                    count[j] = count[j] + 1\n",
        "                    break\n",
        "        maxm = np.argmax(count)\n",
        "        preci[indx] = count[maxm]/len(cluster)\n",
        "        indx = indx + 1\n",
        "    return preci\n",
        "\n",
        "def Recall(data_arr, clusters, targets, targets_no):\n",
        "    reci = np.zeros(len(clusters))\n",
        "    indx = 0\n",
        "    for cluster in clusters:\n",
        "        count = np.zeros(len(targets))\n",
        "        for i in cluster:\n",
        "            for j in range(len(targets)):\n",
        "                if data_arr[i,-1] == targets[j]:\n",
        "                    count[j] = count[j] + 1\n",
        "                    break\n",
        "        maxm = np.argmax(count)\n",
        "        reci[indx] = count[maxm] / targets_no[maxm]\n",
        "        indx = indx + 1\n",
        "    return reci\n",
        "def F_score(preci, reci):\n",
        "    fsum = 0\n",
        "    for i in range(len(clusters)):\n",
        "        fsum = fsum + 2 /((1/preci[i]) + (1/reci[i]))\n",
        "    score = fsum / len(clusters)\n",
        "    return score"
      ],
      "metadata": {
        "id": "LSE7m-x9Z4S9"
      },
      "execution_count": null,
      "outputs": []
    }
  ]
}